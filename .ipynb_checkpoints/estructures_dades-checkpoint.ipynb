{
 "cells": [
  {
   "cell_type": "markdown",
   "metadata": {},
   "source": [
    "# IT Academy - Data Science amb Python\n",
    "## Tasca 2: Estructura de dades\n",
    "\n",
    "###  [Github Estructura de dades](https://github.com/jesussantana/estructures_dades)"
   ]
  },
  {
   "cell_type": "markdown",
   "metadata": {},
   "source": [
    "###  Exercici 1\n",
    "- Crea una llista que agrupi els mesos de l’any en trimestres (1T: Gener, Febrer i Març, 2T: Abril, Maig, Juny...), és a dir, una llista amb 4 llistes dins.\n",
    "\n",
    "\n",
    "###  Exercici 2\n",
    "- Crea un codi que et permeti accedir a:\n",
    "- El segon més del primer trimestre\n",
    "- Els mesos del primer trimestre\n",
    "- Setembre i octubre"
   ]
  },
  {
   "cell_type": "code",
   "execution_count": 3,
   "metadata": {},
   "outputs": [
    {
     "name": "stdout",
     "output_type": "stream",
     "text": [
      "Febrer\n",
      "['Gener', 'Febrer', 'Març']\n",
      "Gener Febrer Març\n",
      "Gener\n",
      "Febrer\n",
      "Març\n",
      "Septembre Octubre\n"
     ]
    }
   ],
   "source": [
    "#Exercici 1\n",
    "\n",
    "quarterList = [\n",
    "    [\"Gener\", \"Febrer\", \"Març\"],\n",
    "    [\"Abril\", \"Maig\", \"Juny\"],\n",
    "    [\"July\", \"Agost\", \"Septembre\"],\n",
    "    [\"Octubre\", \"Novembre\", \"Desembre\"]\n",
    "]\n",
    "\n",
    "\n",
    "#Exercici 2\n",
    "\n",
    "# El segon més del primer trimestre\n",
    "\n",
    "print (quarterList[0][1])\n",
    "\n",
    "#Els mesos del primer trimestre\n",
    "\n",
    "print (quarterList[0][0:3])\n",
    "\n",
    "print (quarterList[0][0] + \" \" + quarterList[0][1] + \" \" + quarterList[0][2])\n",
    "\n",
    "[print(i) for i in quarterList[0]]\n",
    "\n",
    "#Setembre i octubre\n",
    "\n",
    "print (quarterList[2][2] + \" \" + quarterList[3][0])\n"
   ]
  },
  {
   "cell_type": "markdown",
   "metadata": {},
   "source": [
    "### Exercici 3\n",
    "- Crea una llista amb nombres desordenats i respon a les següents preguntes:\n",
    "\n",
    "   - Quants números hi ha?\n",
    "   - Quantes vegades apareix el número 3\n",
    "   - Quantes vegades apareixen els nombres 3 i 4?\n",
    "   - Quin és el número més gran?\n",
    "   - Quins són els 3 números més petits?\n",
    "   - Quin és el rang d’aquesta llista?"
   ]
  },
  {
   "cell_type": "code",
   "execution_count": 14,
   "metadata": {},
   "outputs": [
    {
     "name": "stdout",
     "output_type": "stream",
     "text": [
      "[12, 4, 15, 9, 6, 6, 16, 1, 14, 18, 14, 3, 1, 8, 2, 5, 15, 12, 13, 10, 16, 18, 19, 14, 5]\n",
      "25 números\n",
      "1 vegades apareix el número 3\n",
      "3 vegades apareix el número 3 i 4\n",
      "19 es el número mes gran\n",
      "[1, 1, 2] Son els 3 números mes petits\n",
      "18 es el rang de la llista\n"
     ]
    }
   ],
   "source": [
    "# Exercici 3\n",
    "\n",
    "import random\n",
    "randomlist = []\n",
    "\n",
    "for i in range(0,25):\n",
    "    n = random.randint(1,20)\n",
    "    randomlist.append(n)\n",
    "    \n",
    "print(randomlist)\n",
    "\n",
    "# Quants números hi ha?\n",
    "\n",
    "print(len(randomlist), \"números\")\n",
    "\n",
    "# Quantes vegades apareix el número 3\n",
    "\n",
    "cont = 0\n",
    "\n",
    "for i in randomlist:\n",
    "    if 3 == i:\n",
    "        cont += 1\n",
    "        \n",
    "print(cont, \"vegades apareix el número 3\")\n",
    "\n",
    "# Quantes vegades apareixen els nombres 3 i 4? \n",
    "\n",
    "for i in randomlist:\n",
    "    if 3 == i or 4 == i:\n",
    "        cont += 1\n",
    "        \n",
    "print(cont, \"vegades apareix el número 3 i 4\")\n",
    "\n",
    "# Quin és el número més gran? \n",
    "\n",
    "print(max(randomlist), \"es el número mes gran\")\n",
    "\n",
    "# Quins són els 3 números més petits?\n",
    "\n",
    "randomlist.sort()\n",
    "\n",
    "print (randomlist[0:3], \"Son els 3 números mes petits\")\n",
    "\n",
    "# Quin és el rang d’aquesta llista?\n",
    "\n",
    "rang = (max(randomlist) - min(randomlist))\n",
    "\n",
    "print(rang,  \"es el rang de la llista\")\n",
    "      "
   ]
  },
  {
   "cell_type": "code",
   "execution_count": null,
   "metadata": {},
   "outputs": [],
   "source": []
  }
 ],
 "metadata": {
  "kernelspec": {
   "display_name": "Python 3",
   "language": "python",
   "name": "python3"
  },
  "language_info": {
   "codemirror_mode": {
    "name": "ipython",
    "version": 3
   },
   "file_extension": ".py",
   "mimetype": "text/x-python",
   "name": "python",
   "nbconvert_exporter": "python",
   "pygments_lexer": "ipython3",
   "version": "3.8.5"
  }
 },
 "nbformat": 4,
 "nbformat_minor": 4
}
