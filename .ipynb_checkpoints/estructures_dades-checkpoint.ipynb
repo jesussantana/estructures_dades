{
 "cells": [
  {
   "cell_type": "markdown",
   "metadata": {},
   "source": [
    "# IT Academy - Data Science amb Python\n",
    "## Tasca 2: Estructura de dades\n",
    "## Variables,Operaciones Aritméticas & Markdown\n",
    "###  [Github Estructura de dades](https://github.com/jesussantana/estructures_dades)"
   ]
  },
  {
   "cell_type": "markdown",
   "metadata": {},
   "source": [
    "- ### Exercici 1\n",
    "  - Crea una llista que agrupi els mesos de l’any en trimestres (1T: Gener, Febrer i Març, 2T: Abril, Maig, Juny...), és a dir, una llista amb 4 llistes dins."
   ]
  },
  {
   "cell_type": "code",
   "execution_count": 22,
   "metadata": {},
   "outputs": [
    {
     "name": "stdout",
     "output_type": "stream",
     "text": [
      "Febrer\n",
      "[]\n"
     ]
    }
   ],
   "source": [
    "#Exercici 1\n",
    "#Crea una llista que agrupi els mesos de l’any en trimestres (1T: Gener, Febrer i Març, 2T: Abril, Maig, Juny...), és a dir, una llista amb 4 llistes dins.\n",
    "\n",
    "llistat_trimestres = [\n",
    "    [\"Gener\",\"Febrer\",\"Març\"],\n",
    "    [\"Abril\",\"Maig\",\"Juny\"],\n",
    "    [\"July\", \"Agost\", \"Septembre\"],\n",
    "    [\"Octubre\", \"Novembre\", \"Desembre\"]\n",
    "]\n",
    "\n",
    "\n",
    "#Exercici 2\n",
    "#Crea un codi que et permeti accedir a:\n",
    "\n",
    "#El segon més del primer trimestre\n",
    "\n",
    "print (llistat_trimestres[0][1])\n",
    "\n",
    "#Els mesos del primer trimestre\n",
    "\n",
    "print (llistat_trimestres[0:1][1:1])\n",
    "\n",
    "#Setembre i octubre'''\n",
    "\n"
   ]
  },
  {
   "cell_type": "code",
   "execution_count": null,
   "metadata": {},
   "outputs": [],
   "source": []
  }
 ],
 "metadata": {
  "kernelspec": {
   "display_name": "Python 3",
   "language": "python",
   "name": "python3"
  },
  "language_info": {
   "codemirror_mode": {
    "name": "ipython",
    "version": 3
   },
   "file_extension": ".py",
   "mimetype": "text/x-python",
   "name": "python",
   "nbconvert_exporter": "python",
   "pygments_lexer": "ipython3",
   "version": "3.8.5"
  }
 },
 "nbformat": 4,
 "nbformat_minor": 4
}
