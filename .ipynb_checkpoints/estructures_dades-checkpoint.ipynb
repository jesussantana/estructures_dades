{
 "cells": [
  {
   "cell_type": "markdown",
   "metadata": {},
   "source": [
    "# IT Academy - Data Science amb Python\n",
    "## Tasca 2: Estructura de dades\n",
    "\n",
    "###  [Github Estructura de dades](https://github.com/jesussantana/estructures_dades)"
   ]
  },
  {
   "cell_type": "markdown",
   "metadata": {},
   "source": [
    "###  Exercici 1\n",
    "- Crea una llista que agrupi els mesos de l’any en trimestres (1T: Gener, Febrer i Març, 2T: Abril, Maig, Juny...), és a dir, una llista amb 4 llistes dins."
   ]
  },
  {
   "cell_type": "code",
   "execution_count": 1,
   "metadata": {},
   "outputs": [],
   "source": [
    "quarterList = [\n",
    "    [\"Gener\", \"Febrer\", \"Març\"],\n",
    "    [\"Abril\", \"Maig\", \"Juny\"],\n",
    "    [\"July\", \"Agost\", \"Septembre\"],\n",
    "    [\"Octubre\", \"Novembre\", \"Desembre\"]\n",
    "]"
   ]
  },
  {
   "cell_type": "markdown",
   "metadata": {},
   "source": [
    "###  Exercici 2\n",
    "- Crea un codi que et permeti accedir a:"
   ]
  },
  {
   "cell_type": "markdown",
   "metadata": {},
   "source": [
    "- *El segon més del primer trimestre*\n"
   ]
  },
  {
   "cell_type": "code",
   "execution_count": 2,
   "metadata": {},
   "outputs": [],
   "source": [
    "print (quarterList[0][1])"
   ]
  },
  {
   "cell_type": "markdown",
   "metadata": {},
   "source": [
    "- *Els mesos del primer trimestre*\n"
   ]
  },
  {
   "cell_type": "code",
   "execution_count": 3,
   "metadata": {},
   "outputs": [],
   "source": [
    "print (quarterList[0][0:3])\n",
    "\n",
    "print (quarterList[0][0] + \" \" + quarterList[0][1] + \" \" + quarterList[0][2])"
   ]
  },
  {
   "cell_type": "markdown",
   "metadata": {},
   "source": [
    "- *Setembre i octubre*"
   ]
  },
  {
   "cell_type": "code",
   "execution_count": 4,
   "metadata": {},
   "outputs": [],
   "source": [
    "print (quarterList[2][2] + \" \" + quarterList[3][0])"
   ]
  },
  {
   "cell_type": "markdown",
   "metadata": {},
   "source": [
    "### Exercici 3\n",
    "- Crea una llista amb nombres desordenats i respon a les següents preguntes:  "
   ]
  },
  {
   "cell_type": "code",
   "execution_count": 5,
   "metadata": {},
   "outputs": [],
   "source": [
    "import random\n",
    "randomList = []\n",
    "\n",
    "for i in range(0,25):\n",
    "    randomList.append(random.randint(1,20))\n",
    "    \n",
    "print(randomList)"
   ]
  },
  {
   "cell_type": "markdown",
   "metadata": {},
   "source": [
    "- *Quants números hi ha?*"
   ]
  },
  {
   "cell_type": "code",
   "execution_count": 6,
   "metadata": {},
   "outputs": [],
   "source": [
    "print(f\"La llista te {len(randomList)} números\")"
   ]
  },
  {
   "cell_type": "markdown",
   "metadata": {},
   "source": [
    "- *Quantes vegades apareix el número 3*\n"
   ]
  },
  {
   "cell_type": "code",
   "execution_count": 7,
   "metadata": {},
   "outputs": [],
   "source": [
    "print(f\"El número 3 apareix {randomList.count(3)} vegadas\")"
   ]
  },
  {
   "cell_type": "markdown",
   "metadata": {},
   "source": [
    "\n",
    "- *Quantes vegades apareixen els nombres 3 i 4?*\n"
   ]
  },
  {
   "cell_type": "code",
   "execution_count": 8,
   "metadata": {},
   "outputs": [
    {
     "name": "stdout",
     "output_type": "stream",
     "text": [
      "El número 3 i 4 apareix 3 vegadas\n"
     ]
    }
   ],
   "source": [
    "print(f\"El número 3 i 4 apareix {randomList.count(3)+randomList.count(4)} vegadas\")"
   ]
  },
  {
   "cell_type": "markdown",
   "metadata": {},
   "source": [
    "\n",
    "- *Quin és el número més gran?*\n"
   ]
  },
  {
   "cell_type": "code",
   "execution_count": 9,
   "metadata": {},
   "outputs": [
    {
     "name": "stdout",
     "output_type": "stream",
     "text": [
      "El número mes gran es el 20\n"
     ]
    }
   ],
   "source": [
    "print(f\"El número mes gran es el {max(randomList)}\")"
   ]
  },
  {
   "cell_type": "markdown",
   "metadata": {},
   "source": [
    "\n",
    "- *Quins són els 3 números més petits?*\n"
   ]
  },
  {
   "cell_type": "code",
   "execution_count": 10,
   "metadata": {},
   "outputs": [
    {
     "name": "stdout",
     "output_type": "stream",
     "text": [
      "Els tres números mes petits son [1, 1, 2]\n"
     ]
    }
   ],
   "source": [
    "print(f\"Els tres números mes petits son {sorted(randomList)[0:3]}\")"
   ]
  },
  {
   "cell_type": "markdown",
   "metadata": {},
   "source": [
    "- *Quin és el rang d’aquesta llista?*"
   ]
  },
  {
   "cell_type": "code",
   "execution_count": 11,
   "metadata": {},
   "outputs": [
    {
     "name": "stdout",
     "output_type": "stream",
     "text": [
      "19 es el rang de la llista\n"
     ]
    }
   ],
   "source": [
    "print(f\"{max(randomList) - min(randomList)} es el rang de la llista\")"
   ]
  },
  {
   "cell_type": "markdown",
   "metadata": {},
   "source": [
    "### Exercici 4\n",
    "- Crea un diccionari de la següent forma i respon a les preguntes:\n",
    "\n",
    "\n",
    "  - compra = { \"Pomes\" : {\"Qty\": 5, \"€\": 0.42}, \"Peres\" : {\"Qty\": 3, \"€\": 0.66} }\n",
    "\n",
    "\n",
    "   "
   ]
  },
  {
   "cell_type": "code",
   "execution_count": 12,
   "metadata": {},
   "outputs": [],
   "source": [
    "compra = { \"Pomes\" : {\"Qty\": 5, \"€\": 0.42}, \"Peres\" : {\"Qty\": 3, \"€\": 0.66} }"
   ]
  },
  {
   "cell_type": "markdown",
   "metadata": {},
   "source": [
    "- *Afegeix alguna fruita més*\n",
    "  \n",
    "\n"
   ]
  },
  {
   "cell_type": "code",
   "execution_count": 13,
   "metadata": {},
   "outputs": [
    {
     "name": "stdout",
     "output_type": "stream",
     "text": [
      "{'Pomes': {'Qty': 5, '€': 0.42}, 'Peres': {'Qty': 3, '€': 0.66}, 'Platans': {'Qty': 4, '€': 0.86}}\n"
     ]
    }
   ],
   "source": [
    "compra[\"Platans\"] = {\"Qty\": 4, \"€\": 0.86}\n",
    "\n",
    "print(compra)"
   ]
  },
  {
   "cell_type": "markdown",
   "metadata": {},
   "source": [
    "- *Quant han costat les peres en total?*"
   ]
  },
  {
   "cell_type": "code",
   "execution_count": 14,
   "metadata": {},
   "outputs": [
    {
     "name": "stdout",
     "output_type": "stream",
     "text": [
      "Les peres han costat en total 1.98 €\n"
     ]
    }
   ],
   "source": [
    "totalPeres = compra[\"Peres\"][\"Qty\"] * compra[\"Peres\"][\"€\"]\n",
    "\n",
    "print(f\"Les peres han costat en total {totalPeres} €\")"
   ]
  },
  {
   "cell_type": "markdown",
   "metadata": {},
   "source": [
    "- *Quantes fruites hem comprat en total?*"
   ]
  },
  {
   "cell_type": "code",
   "execution_count": 15,
   "metadata": {},
   "outputs": [
    {
     "name": "stdout",
     "output_type": "stream",
     "text": [
      "Em comprat 12 fruites\n"
     ]
    }
   ],
   "source": [
    "totalFruites = 0\n",
    "\n",
    "for fruita in compra:\n",
    "    totalFruites += compra[fruita][\"Qty\"]\n",
    "    \n",
    "print(f\"Em comprat {totalFruites} fruites\")"
   ]
  },
  {
   "cell_type": "markdown",
   "metadata": {},
   "source": [
    "- *Quina és la fruita més cara?*"
   ]
  },
  {
   "cell_type": "code",
   "execution_count": 16,
   "metadata": {},
   "outputs": [
    {
     "name": "stdout",
     "output_type": "stream",
     "text": [
      "La fruita més cara son Platans\n"
     ]
    }
   ],
   "source": [
    "llistatPreus = []\n",
    "\n",
    "for fruita in compra:\n",
    "    llistatPreus.append(compra[fruita][\"€\"])\n",
    "    \n",
    "maxPreu = max(llistatPreus)\n",
    "\n",
    "for fruita in compra:\n",
    "    if compra[fruita][\"€\"] == maxPreu:\n",
    "        print(f\"La fruita més cara son {fruita}\")"
   ]
  }
 ],
 "metadata": {
  "kernelspec": {
   "display_name": "Python 3",
   "language": "python",
   "name": "python3"
  },
  "language_info": {
   "codemirror_mode": {
    "name": "ipython",
    "version": 3
   },
   "file_extension": ".py",
   "mimetype": "text/x-python",
   "name": "python",
   "nbconvert_exporter": "python",
   "pygments_lexer": "ipython3",
   "version": "3.8.5"
  }
 },
 "nbformat": 4,
 "nbformat_minor": 4
}
